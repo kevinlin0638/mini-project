{
 "cells": [
  {
   "cell_type": "markdown",
   "metadata": {
    "id": "XLb-Xpx23V83"
   },
   "source": [
    "# Init"
   ]
  },
  {
   "cell_type": "code",
   "execution_count": 1,
   "metadata": {
    "executionInfo": {
     "elapsed": 501,
     "status": "ok",
     "timestamp": 1708505430055,
     "user": {
      "displayName": "Yuqi Zhang",
      "userId": "11712833623073586001"
     },
     "user_tz": -480
    },
    "id": "LnzFtQjT0wQm"
   },
   "outputs": [],
   "source": [
    "import os\n",
    "import pandas as pd\n",
    "import requests\n",
    "from zipfile import ZipFile\n",
    "from io import BytesIO"
   ]
  },
  {
   "cell_type": "code",
   "execution_count": 2,
   "metadata": {},
   "outputs": [],
   "source": [
    "# download the datafiles\n",
    "# base_url = \"https://s3.amazonaws.com/capitalbikeshare-data/\"\n",
    "\n",
    "# data_dir = './data'\n",
    "# os.makedirs(data_dir, exist_ok=True)\n",
    "\n",
    "# # download 202301-202401 data\n",
    "# year_months = ['2023-01', '2023-02', '2023-03', '2023-04', '2023-05', '2023-06', \n",
    "#                '2023-07', '2023-08', '2023-09', '2023-10', '2023-11', '2023-12', '2024-01']\n",
    "\n",
    "# for year_month in year_months:\n",
    "#     file_name = f\"{year_month.replace('-', '')}-capitalbikeshare-tripdata.zip\"\n",
    "#     url = base_url + file_name\n",
    "    \n",
    "#     # Attempt to download the file\n",
    "#     try:\n",
    "#         print(f\"Downloading {file_name}...\")\n",
    "#         response = requests.get(url)\n",
    "#         if response.status_code == 200:\n",
    "#             # If download is successful, read the zip file\n",
    "#             with ZipFile(BytesIO(response.content)) as thezip:\n",
    "#                 # Extract only the CSV file directly into the 'data' directory\n",
    "#                 for member in thezip.namelist():\n",
    "#                     if member.endswith('.csv'):\n",
    "#                         # Define the path to save the CSV file\n",
    "#                         csv_path = os.path.join(data_dir, member)\n",
    "#                         # Extract the CSV file\n",
    "#                         with open(csv_path, 'wb') as f:\n",
    "#                             f.write(thezip.read(member))\n",
    "#                         print(f\"Successfully downloaded and extracted {member} into {data_dir}\")\n",
    "#         else:\n",
    "#             print(f\"Failed to download {file_name}. Status code: {response.status_code}\")\n",
    "#     except Exception as e:\n",
    "#         print(f\"An error occurred while downloading {file_name}: {e}\")"
   ]
  },
  {
   "cell_type": "code",
   "execution_count": 3,
   "metadata": {
    "executionInfo": {
     "elapsed": 2315,
     "status": "ok",
     "timestamp": 1708505432367,
     "user": {
      "displayName": "Yuqi Zhang",
      "userId": "11712833623073586001"
     },
     "user_tz": -480
    },
    "id": "k6KbU5Ik1MxO",
    "slideshow": {
     "slide_type": "-"
    }
   },
   "outputs": [],
   "source": [
    "# concat all datafiles and read-in as dataframe\n",
    "dfs = []\n",
    "\n",
    "for filename in os.listdir('./data'):\n",
    "    if filename.endswith('.csv'):\n",
    "        file_path = os.path.join('./data', filename)\n",
    "        # Read the CSV file and append it to the list of DataFrames\n",
    "        df = pd.read_csv(file_path)\n",
    "        dfs.append(df)\n",
    "\n",
    "df = pd.concat(dfs, ignore_index=True)"
   ]
  },
  {
   "cell_type": "markdown",
   "metadata": {
    "id": "Qy2CAcGg3Zta"
   },
   "source": [
    "# Task 1: Network Resilience"
   ]
  },
  {
   "cell_type": "markdown",
   "metadata": {
    "id": "GwZ_TjMQ4K2_"
   },
   "source": [
    "### 1.1: Construct a network\n",
    "\n",
    "\n",
    "*   Node: stations\n",
    "*   Edge: trips between these stations\n",
    "*   Edge weights: volume of trips"
   ]
  },
  {
   "cell_type": "code",
   "execution_count": 4,
   "metadata": {},
   "outputs": [
    {
     "data": {
      "text/html": [
       "<div>\n",
       "<style scoped>\n",
       "    .dataframe tbody tr th:only-of-type {\n",
       "        vertical-align: middle;\n",
       "    }\n",
       "\n",
       "    .dataframe tbody tr th {\n",
       "        vertical-align: top;\n",
       "    }\n",
       "\n",
       "    .dataframe thead th {\n",
       "        text-align: right;\n",
       "    }\n",
       "</style>\n",
       "<table border=\"1\" class=\"dataframe\">\n",
       "  <thead>\n",
       "    <tr style=\"text-align: right;\">\n",
       "      <th></th>\n",
       "      <th>ride_id</th>\n",
       "      <th>rideable_type</th>\n",
       "      <th>started_at</th>\n",
       "      <th>ended_at</th>\n",
       "      <th>start_station_name</th>\n",
       "      <th>start_station_id</th>\n",
       "      <th>end_station_name</th>\n",
       "      <th>end_station_id</th>\n",
       "      <th>start_lat</th>\n",
       "      <th>start_lng</th>\n",
       "      <th>end_lat</th>\n",
       "      <th>end_lng</th>\n",
       "      <th>member_casual</th>\n",
       "    </tr>\n",
       "  </thead>\n",
       "  <tbody>\n",
       "    <tr>\n",
       "      <th>0</th>\n",
       "      <td>5F3D280238A782FE</td>\n",
       "      <td>docked_bike</td>\n",
       "      <td>2023-05-12 18:57:59</td>\n",
       "      <td>2023-05-12 19:17:50</td>\n",
       "      <td>3rd &amp; Tingey St SE</td>\n",
       "      <td>31634.0</td>\n",
       "      <td>8th &amp; F St NE</td>\n",
       "      <td>31631.0</td>\n",
       "      <td>38.875010</td>\n",
       "      <td>-77.002400</td>\n",
       "      <td>38.897274</td>\n",
       "      <td>-76.994749</td>\n",
       "      <td>casual</td>\n",
       "    </tr>\n",
       "    <tr>\n",
       "      <th>1</th>\n",
       "      <td>97EC218DACB24849</td>\n",
       "      <td>classic_bike</td>\n",
       "      <td>2023-05-23 07:55:29</td>\n",
       "      <td>2023-05-23 08:11:12</td>\n",
       "      <td>Clarendon Blvd &amp; Pierce St</td>\n",
       "      <td>31016.0</td>\n",
       "      <td>15th &amp; L St NW</td>\n",
       "      <td>31276.0</td>\n",
       "      <td>38.893438</td>\n",
       "      <td>-77.076389</td>\n",
       "      <td>38.903649</td>\n",
       "      <td>-77.034918</td>\n",
       "      <td>member</td>\n",
       "    </tr>\n",
       "    <tr>\n",
       "      <th>2</th>\n",
       "      <td>31D19AC7BA317018</td>\n",
       "      <td>electric_bike</td>\n",
       "      <td>2023-05-05 17:27:10</td>\n",
       "      <td>2023-05-05 17:40:17</td>\n",
       "      <td>South Capitol St and Southern Ave SE</td>\n",
       "      <td>31830.0</td>\n",
       "      <td>Tanger Outlets</td>\n",
       "      <td>32415.0</td>\n",
       "      <td>38.821667</td>\n",
       "      <td>-77.001627</td>\n",
       "      <td>38.796800</td>\n",
       "      <td>-77.002600</td>\n",
       "      <td>member</td>\n",
       "    </tr>\n",
       "    <tr>\n",
       "      <th>3</th>\n",
       "      <td>18064EB7133720BF</td>\n",
       "      <td>classic_bike</td>\n",
       "      <td>2023-05-09 11:22:05</td>\n",
       "      <td>2023-05-09 11:35:11</td>\n",
       "      <td>11th &amp; O St NW</td>\n",
       "      <td>31286.0</td>\n",
       "      <td>19th St &amp; Pennsylvania Ave NW</td>\n",
       "      <td>31100.0</td>\n",
       "      <td>38.908431</td>\n",
       "      <td>-77.027088</td>\n",
       "      <td>38.900300</td>\n",
       "      <td>-77.042900</td>\n",
       "      <td>member</td>\n",
       "    </tr>\n",
       "    <tr>\n",
       "      <th>4</th>\n",
       "      <td>02E47B545236B208</td>\n",
       "      <td>classic_bike</td>\n",
       "      <td>2023-05-06 10:24:09</td>\n",
       "      <td>2023-05-06 10:35:13</td>\n",
       "      <td>11th &amp; O St NW</td>\n",
       "      <td>31286.0</td>\n",
       "      <td>16th &amp; Harvard St NW</td>\n",
       "      <td>31135.0</td>\n",
       "      <td>38.908431</td>\n",
       "      <td>-77.027088</td>\n",
       "      <td>38.926102</td>\n",
       "      <td>-77.036650</td>\n",
       "      <td>casual</td>\n",
       "    </tr>\n",
       "  </tbody>\n",
       "</table>\n",
       "</div>"
      ],
      "text/plain": [
       "            ride_id  rideable_type           started_at             ended_at  \\\n",
       "0  5F3D280238A782FE    docked_bike  2023-05-12 18:57:59  2023-05-12 19:17:50   \n",
       "1  97EC218DACB24849   classic_bike  2023-05-23 07:55:29  2023-05-23 08:11:12   \n",
       "2  31D19AC7BA317018  electric_bike  2023-05-05 17:27:10  2023-05-05 17:40:17   \n",
       "3  18064EB7133720BF   classic_bike  2023-05-09 11:22:05  2023-05-09 11:35:11   \n",
       "4  02E47B545236B208   classic_bike  2023-05-06 10:24:09  2023-05-06 10:35:13   \n",
       "\n",
       "                     start_station_name  start_station_id  \\\n",
       "0                    3rd & Tingey St SE           31634.0   \n",
       "1            Clarendon Blvd & Pierce St           31016.0   \n",
       "2  South Capitol St and Southern Ave SE           31830.0   \n",
       "3                        11th & O St NW           31286.0   \n",
       "4                        11th & O St NW           31286.0   \n",
       "\n",
       "                end_station_name  end_station_id  start_lat  start_lng  \\\n",
       "0                  8th & F St NE         31631.0  38.875010 -77.002400   \n",
       "1                 15th & L St NW         31276.0  38.893438 -77.076389   \n",
       "2                 Tanger Outlets         32415.0  38.821667 -77.001627   \n",
       "3  19th St & Pennsylvania Ave NW         31100.0  38.908431 -77.027088   \n",
       "4           16th & Harvard St NW         31135.0  38.908431 -77.027088   \n",
       "\n",
       "     end_lat    end_lng member_casual  \n",
       "0  38.897274 -76.994749        casual  \n",
       "1  38.903649 -77.034918        member  \n",
       "2  38.796800 -77.002600        member  \n",
       "3  38.900300 -77.042900        member  \n",
       "4  38.926102 -77.036650        casual  "
      ]
     },
     "execution_count": 4,
     "metadata": {},
     "output_type": "execute_result"
    }
   ],
   "source": [
    "df.head(5)"
   ]
  },
  {
   "cell_type": "code",
   "execution_count": 5,
   "metadata": {},
   "outputs": [
    {
     "name": "stdout",
     "output_type": "stream",
     "text": [
      "<class 'pandas.core.frame.DataFrame'>\n",
      "RangeIndex: 4706168 entries, 0 to 4706167\n",
      "Data columns (total 13 columns):\n",
      " #   Column              Dtype  \n",
      "---  ------              -----  \n",
      " 0   ride_id             object \n",
      " 1   rideable_type       object \n",
      " 2   started_at          object \n",
      " 3   ended_at            object \n",
      " 4   start_station_name  object \n",
      " 5   start_station_id    float64\n",
      " 6   end_station_name    object \n",
      " 7   end_station_id      float64\n",
      " 8   start_lat           float64\n",
      " 9   start_lng           float64\n",
      " 10  end_lat             float64\n",
      " 11  end_lng             float64\n",
      " 12  member_casual       object \n",
      "dtypes: float64(6), object(7)\n",
      "memory usage: 466.8+ MB\n"
     ]
    }
   ],
   "source": [
    "df.info()"
   ]
  },
  {
   "cell_type": "code",
   "execution_count": 6,
   "metadata": {
    "executionInfo": {
     "elapsed": 295,
     "status": "ok",
     "timestamp": 1708507045719,
     "user": {
      "displayName": "Yuqi Zhang",
      "userId": "11712833623073586001"
     },
     "user_tz": -480
    },
    "id": "3HbAvRFZ5F4k"
   },
   "outputs": [],
   "source": [
    "# data processing\n",
    "df['started_at'] = pd.to_datetime(df['started_at'])\n",
    "df['ended_at'] = pd.to_datetime(df['ended_at'])\n",
    "df['duration_minutes'] = (df['ended_at'] - df['started_at']).dt.total_seconds() / 60\n",
    "\n",
    "df['year'] = df['started_at'].dt.year\n",
    "df['month'] = df['started_at'].dt.month\n",
    "df['day'] = df['started_at'].dt.date"
   ]
  },
  {
   "cell_type": "code",
   "execution_count": 7,
   "metadata": {
    "executionInfo": {
     "elapsed": 3366,
     "status": "ok",
     "timestamp": 1708507050514,
     "user": {
      "displayName": "Yuqi Zhang",
      "userId": "11712833623073586001"
     },
     "user_tz": -480
    },
    "id": "PBPwcIr17jnu"
   },
   "outputs": [],
   "source": [
    "# Node data: \n",
    "# Step 1: calculate daily unique rider and daily average ride duration\n",
    "daily_df = df.pivot_table(\n",
    "    index=['year', 'month', 'day', 'start_station_id', 'rideable_type', 'member_casual'],\n",
    "    values=['ride_id', 'duration_minutes'],\n",
    "    aggfunc={'ride_id': pd.Series.nunique, 'duration_minutes': 'mean'}\n",
    ").reset_index().rename(columns={'ride_id': 'daily_unique_riders'})"
   ]
  },
  {
   "cell_type": "code",
   "execution_count": 8,
   "metadata": {},
   "outputs": [
    {
     "data": {
      "text/html": [
       "<div>\n",
       "<style scoped>\n",
       "    .dataframe tbody tr th:only-of-type {\n",
       "        vertical-align: middle;\n",
       "    }\n",
       "\n",
       "    .dataframe tbody tr th {\n",
       "        vertical-align: top;\n",
       "    }\n",
       "\n",
       "    .dataframe thead th {\n",
       "        text-align: right;\n",
       "    }\n",
       "</style>\n",
       "<table border=\"1\" class=\"dataframe\">\n",
       "  <thead>\n",
       "    <tr style=\"text-align: right;\">\n",
       "      <th></th>\n",
       "      <th>year</th>\n",
       "      <th>month</th>\n",
       "      <th>day</th>\n",
       "      <th>start_station_id</th>\n",
       "      <th>rideable_type</th>\n",
       "      <th>member_casual</th>\n",
       "      <th>duration_minutes</th>\n",
       "      <th>daily_unique_riders</th>\n",
       "    </tr>\n",
       "  </thead>\n",
       "  <tbody>\n",
       "    <tr>\n",
       "      <th>0</th>\n",
       "      <td>2023</td>\n",
       "      <td>1</td>\n",
       "      <td>2023-01-01</td>\n",
       "      <td>31000.0</td>\n",
       "      <td>classic_bike</td>\n",
       "      <td>casual</td>\n",
       "      <td>29.850000</td>\n",
       "      <td>4</td>\n",
       "    </tr>\n",
       "    <tr>\n",
       "      <th>1</th>\n",
       "      <td>2023</td>\n",
       "      <td>1</td>\n",
       "      <td>2023-01-01</td>\n",
       "      <td>31000.0</td>\n",
       "      <td>classic_bike</td>\n",
       "      <td>member</td>\n",
       "      <td>27.033333</td>\n",
       "      <td>2</td>\n",
       "    </tr>\n",
       "    <tr>\n",
       "      <th>2</th>\n",
       "      <td>2023</td>\n",
       "      <td>1</td>\n",
       "      <td>2023-01-01</td>\n",
       "      <td>31002.0</td>\n",
       "      <td>classic_bike</td>\n",
       "      <td>casual</td>\n",
       "      <td>12.600000</td>\n",
       "      <td>2</td>\n",
       "    </tr>\n",
       "    <tr>\n",
       "      <th>3</th>\n",
       "      <td>2023</td>\n",
       "      <td>1</td>\n",
       "      <td>2023-01-01</td>\n",
       "      <td>31002.0</td>\n",
       "      <td>classic_bike</td>\n",
       "      <td>member</td>\n",
       "      <td>13.045833</td>\n",
       "      <td>4</td>\n",
       "    </tr>\n",
       "    <tr>\n",
       "      <th>4</th>\n",
       "      <td>2023</td>\n",
       "      <td>1</td>\n",
       "      <td>2023-01-01</td>\n",
       "      <td>31003.0</td>\n",
       "      <td>classic_bike</td>\n",
       "      <td>casual</td>\n",
       "      <td>17.866667</td>\n",
       "      <td>1</td>\n",
       "    </tr>\n",
       "    <tr>\n",
       "      <th>...</th>\n",
       "      <td>...</td>\n",
       "      <td>...</td>\n",
       "      <td>...</td>\n",
       "      <td>...</td>\n",
       "      <td>...</td>\n",
       "      <td>...</td>\n",
       "      <td>...</td>\n",
       "      <td>...</td>\n",
       "    </tr>\n",
       "    <tr>\n",
       "      <th>682171</th>\n",
       "      <td>2024</td>\n",
       "      <td>1</td>\n",
       "      <td>2024-01-31</td>\n",
       "      <td>32609.0</td>\n",
       "      <td>electric_bike</td>\n",
       "      <td>casual</td>\n",
       "      <td>12.183333</td>\n",
       "      <td>1</td>\n",
       "    </tr>\n",
       "    <tr>\n",
       "      <th>682172</th>\n",
       "      <td>2024</td>\n",
       "      <td>1</td>\n",
       "      <td>2024-01-31</td>\n",
       "      <td>32609.0</td>\n",
       "      <td>electric_bike</td>\n",
       "      <td>member</td>\n",
       "      <td>3.916667</td>\n",
       "      <td>1</td>\n",
       "    </tr>\n",
       "    <tr>\n",
       "      <th>682173</th>\n",
       "      <td>2024</td>\n",
       "      <td>1</td>\n",
       "      <td>2024-01-31</td>\n",
       "      <td>33200.0</td>\n",
       "      <td>classic_bike</td>\n",
       "      <td>casual</td>\n",
       "      <td>8.372222</td>\n",
       "      <td>3</td>\n",
       "    </tr>\n",
       "    <tr>\n",
       "      <th>682174</th>\n",
       "      <td>2024</td>\n",
       "      <td>1</td>\n",
       "      <td>2024-01-31</td>\n",
       "      <td>33200.0</td>\n",
       "      <td>classic_bike</td>\n",
       "      <td>member</td>\n",
       "      <td>14.086667</td>\n",
       "      <td>5</td>\n",
       "    </tr>\n",
       "    <tr>\n",
       "      <th>682175</th>\n",
       "      <td>2024</td>\n",
       "      <td>1</td>\n",
       "      <td>2024-01-31</td>\n",
       "      <td>33200.0</td>\n",
       "      <td>electric_bike</td>\n",
       "      <td>member</td>\n",
       "      <td>8.929167</td>\n",
       "      <td>4</td>\n",
       "    </tr>\n",
       "  </tbody>\n",
       "</table>\n",
       "<p>682176 rows × 8 columns</p>\n",
       "</div>"
      ],
      "text/plain": [
       "        year  month         day  start_station_id  rideable_type  \\\n",
       "0       2023      1  2023-01-01           31000.0   classic_bike   \n",
       "1       2023      1  2023-01-01           31000.0   classic_bike   \n",
       "2       2023      1  2023-01-01           31002.0   classic_bike   \n",
       "3       2023      1  2023-01-01           31002.0   classic_bike   \n",
       "4       2023      1  2023-01-01           31003.0   classic_bike   \n",
       "...      ...    ...         ...               ...            ...   \n",
       "682171  2024      1  2024-01-31           32609.0  electric_bike   \n",
       "682172  2024      1  2024-01-31           32609.0  electric_bike   \n",
       "682173  2024      1  2024-01-31           33200.0   classic_bike   \n",
       "682174  2024      1  2024-01-31           33200.0   classic_bike   \n",
       "682175  2024      1  2024-01-31           33200.0  electric_bike   \n",
       "\n",
       "       member_casual  duration_minutes  daily_unique_riders  \n",
       "0             casual         29.850000                    4  \n",
       "1             member         27.033333                    2  \n",
       "2             casual         12.600000                    2  \n",
       "3             member         13.045833                    4  \n",
       "4             casual         17.866667                    1  \n",
       "...              ...               ...                  ...  \n",
       "682171        casual         12.183333                    1  \n",
       "682172        member          3.916667                    1  \n",
       "682173        casual          8.372222                    3  \n",
       "682174        member         14.086667                    5  \n",
       "682175        member          8.929167                    4  \n",
       "\n",
       "[682176 rows x 8 columns]"
      ]
     },
     "execution_count": 8,
     "metadata": {},
     "output_type": "execute_result"
    }
   ],
   "source": [
    "daily_df"
   ]
  },
  {
   "cell_type": "code",
   "execution_count": 9,
   "metadata": {
    "executionInfo": {
     "elapsed": 291,
     "status": "ok",
     "timestamp": 1708507054912,
     "user": {
      "displayName": "Yuqi Zhang",
      "userId": "11712833623073586001"
     },
     "user_tz": -480
    },
    "id": "Fe1Ux6Pc7pAQ"
   },
   "outputs": [],
   "source": [
    "# Step 2: Aggregate monthly metrics for each station, rideable type, and member/casual status\n",
    "station_metrics = daily_df.pivot_table(\n",
    "    index=['year', 'month', 'start_station_id', 'rideable_type', 'member_casual'],\n",
    "    values=['daily_unique_riders', 'duration_minutes'],\n",
    "    aggfunc={\n",
    "        'daily_unique_riders': ['mean'],  # Daily average unique riders\n",
    "        'duration_minutes': ['sum', 'mean']  # Daily average duration\n",
    "    }\n",
    ")\n",
    "\n",
    "station_metrics.reset_index(inplace=True)"
   ]
  },
  {
   "cell_type": "code",
   "execution_count": 10,
   "metadata": {},
   "outputs": [],
   "source": [
    "# station_metrics.to_csv(\"processed_data/node_attributes_file.csv\", index = False)"
   ]
  },
  {
   "cell_type": "code",
   "execution_count": 11,
   "metadata": {},
   "outputs": [],
   "source": [
    "# Edge data: \n",
    "edges_df = df.pivot_table(index=['year', 'month', 'start_station_id', 'end_station_id', 'rideable_type', 'member_casual'], \n",
    "                          aggfunc='size',\n",
    "                          fill_value=0).reset_index(name='trip_count')"
   ]
  },
  {
   "cell_type": "code",
   "execution_count": 12,
   "metadata": {},
   "outputs": [],
   "source": [
    "# edges_df.to_csv(\"processed_data/edge_file.csv\", index = False)"
   ]
  },
  {
   "cell_type": "code",
   "execution_count": 13,
   "metadata": {},
   "outputs": [],
   "source": [
    "# geo data:\n",
    "start_stations = df[['start_station_id', 'start_lat', 'start_lng']].rename(\n",
    "    columns={'start_station_id': 'station_id', 'start_lat': 'lat', 'start_lng': 'lng'}\n",
    ")\n",
    "end_stations = df[['end_station_id', 'end_lat', 'end_lng']].rename(\n",
    "    columns={'end_station_id': 'station_id', 'end_lat': 'lat', 'end_lng': 'lng'}\n",
    ")\n",
    "all_stations = pd.concat([start_stations, end_stations], ignore_index=True)\n",
    "stations_geo_df = all_stations.drop_duplicates(subset=['station_id'])\n",
    "\n",
    "# stations_geo_df.to_csv(\"processed_data/stations_geo.csv\", index = False)"
   ]
  },
  {
   "cell_type": "code",
   "execution_count": 16,
   "metadata": {},
   "outputs": [
    {
     "ename": "ModuleNotFoundError",
     "evalue": "No module named 'folium'",
     "output_type": "error",
     "traceback": [
      "\u001b[0;31m---------------------------------------------------------------------------\u001b[0m",
      "\u001b[0;31mModuleNotFoundError\u001b[0m                       Traceback (most recent call last)",
      "Input \u001b[0;32mIn [16]\u001b[0m, in \u001b[0;36m<module>\u001b[0;34m\u001b[0m\n\u001b[0;32m----> 1\u001b[0m \u001b[38;5;28;01mimport\u001b[39;00m \u001b[38;5;21;01mfolium\u001b[39;00m\n\u001b[1;32m      3\u001b[0m map_center_lat \u001b[38;5;241m=\u001b[39m stations_geo_df[\u001b[38;5;124m'\u001b[39m\u001b[38;5;124mlat\u001b[39m\u001b[38;5;124m'\u001b[39m]\u001b[38;5;241m.\u001b[39mmean()\n\u001b[1;32m      4\u001b[0m map_center_lng \u001b[38;5;241m=\u001b[39m stations_geo_df[\u001b[38;5;124m'\u001b[39m\u001b[38;5;124mlng\u001b[39m\u001b[38;5;124m'\u001b[39m]\u001b[38;5;241m.\u001b[39mmean()\n",
      "\u001b[0;31mModuleNotFoundError\u001b[0m: No module named 'folium'"
     ]
    }
   ],
   "source": [
    "import folium\n",
    "\n",
    "map_center_lat = stations_geo_df['lat'].mean()\n",
    "map_center_lng = stations_geo_df['lng'].mean()\n",
    "m = folium.Map(location=[map_center_lat, map_center_lng], zoom_start=13)\n",
    "\n",
    "for _, row in stations_geo_df.iterrows():\n",
    "    folium.Marker(\n",
    "        location=[row['lat'], row['lng']],\n",
    "        icon=folium.Icon(color='green'),\n",
    "        popup=f\"Station: {row['station_id']}\",\n",
    "    ).add_to(m)"
   ]
  },
  {
   "cell_type": "code",
   "execution_count": null,
   "metadata": {},
   "outputs": [],
   "source": [
    "node_df = pd.read_csv(\"processed_data/node_attributes_file.csv\")\n",
    "edges_df = pd.read_csv(\"processed_data/edge_file.csv\")"
   ]
  },
  {
   "cell_type": "markdown",
   "metadata": {
    "id": "-eR34a244O4O"
   },
   "source": [
    "### 1.2:\n",
    "Implement the two types of node deletion strategies on your network, and plot the associated changes in average shortest path length (i.e., average distance) & diameter as a function of the fraction of nodes removed. Do the resulting plots resemble the Fig. 2 on Pg. 12 of the Albert et al. (2000) paper above? Why do you (/don’t you) see this pattern?"
   ]
  },
  {
   "cell_type": "markdown",
   "metadata": {
    "id": "j2mFIdS54kG2"
   },
   "source": [
    "### 1.3\n",
    "Can you think of any other important graph-level metric, apart from average distance or diameter, that can potentially measure structural resilience of the network to such errors and attacks? Compute this metric, and test if this metric also shows significant variation in response to these two types of node deletions."
   ]
  },
  {
   "cell_type": "markdown",
   "metadata": {
    "id": "zla5cyxd4uAH"
   },
   "source": [
    "### 1.4\n",
    "Repeat the above set of analyses for the network over time (e.g., for each month or quarter or year). Do you see any change in the resilience of the network over time? What patterns (if any) do you see from this temporal analysis?"
   ]
  },
  {
   "cell_type": "code",
   "execution_count": null,
   "metadata": {
    "id": "BpNU2Zkh3eSy"
   },
   "outputs": [],
   "source": []
  }
 ],
 "metadata": {
  "celltoolbar": "Raw Cell Format",
  "colab": {
   "authorship_tag": "ABX9TyMepYDMbS3uAzh4/95RRGFV",
   "provenance": []
  },
  "kernelspec": {
   "display_name": "Python 3 (ipykernel)",
   "language": "python",
   "name": "python3"
  },
  "language_info": {
   "codemirror_mode": {
    "name": "ipython",
    "version": 3
   },
   "file_extension": ".py",
   "mimetype": "text/x-python",
   "name": "python",
   "nbconvert_exporter": "python",
   "pygments_lexer": "ipython3",
   "version": "3.9.7"
  }
 },
 "nbformat": 4,
 "nbformat_minor": 1
}
