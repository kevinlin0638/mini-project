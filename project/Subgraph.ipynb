{
 "cells": [
  {
   "cell_type": "code",
   "execution_count": 57,
   "metadata": {},
   "outputs": [],
   "source": [
    "import pandas as pd\n",
    "import numpy as np\n",
    "cluster = pd.read_csv('nodes(1.8).csv')\n",
    "cluster.drop(columns='Label',inplace=True)\n",
    "features = pd.read_csv('large_twitch_features.csv')\n",
    "edges= pd.read_csv('large_twitch_edges.csv')"
   ]
  },
  {
   "cell_type": "code",
   "execution_count": 12,
   "metadata": {},
   "outputs": [
    {
     "data": {
      "text/html": [
       "<div>\n",
       "<style scoped>\n",
       "    .dataframe tbody tr th:only-of-type {\n",
       "        vertical-align: middle;\n",
       "    }\n",
       "\n",
       "    .dataframe tbody tr th {\n",
       "        vertical-align: top;\n",
       "    }\n",
       "\n",
       "    .dataframe thead th {\n",
       "        text-align: right;\n",
       "    }\n",
       "</style>\n",
       "<table border=\"1\" class=\"dataframe\">\n",
       "  <thead>\n",
       "    <tr style=\"text-align: right;\">\n",
       "      <th></th>\n",
       "      <th>Id</th>\n",
       "      <th>modularity_class</th>\n",
       "    </tr>\n",
       "  </thead>\n",
       "  <tbody>\n",
       "    <tr>\n",
       "      <th>0</th>\n",
       "      <td>98343</td>\n",
       "      <td>2</td>\n",
       "    </tr>\n",
       "    <tr>\n",
       "      <th>1</th>\n",
       "      <td>141493</td>\n",
       "      <td>2</td>\n",
       "    </tr>\n",
       "    <tr>\n",
       "      <th>2</th>\n",
       "      <td>58736</td>\n",
       "      <td>2</td>\n",
       "    </tr>\n",
       "    <tr>\n",
       "      <th>3</th>\n",
       "      <td>140703</td>\n",
       "      <td>2</td>\n",
       "    </tr>\n",
       "    <tr>\n",
       "      <th>4</th>\n",
       "      <td>151401</td>\n",
       "      <td>2</td>\n",
       "    </tr>\n",
       "    <tr>\n",
       "      <th>...</th>\n",
       "      <td>...</td>\n",
       "      <td>...</td>\n",
       "    </tr>\n",
       "    <tr>\n",
       "      <th>168109</th>\n",
       "      <td>131422</td>\n",
       "      <td>0</td>\n",
       "    </tr>\n",
       "    <tr>\n",
       "      <th>168110</th>\n",
       "      <td>102494</td>\n",
       "      <td>2</td>\n",
       "    </tr>\n",
       "    <tr>\n",
       "      <th>168111</th>\n",
       "      <td>157597</td>\n",
       "      <td>0</td>\n",
       "    </tr>\n",
       "    <tr>\n",
       "      <th>168112</th>\n",
       "      <td>128281</td>\n",
       "      <td>2</td>\n",
       "    </tr>\n",
       "    <tr>\n",
       "      <th>168113</th>\n",
       "      <td>118034</td>\n",
       "      <td>2</td>\n",
       "    </tr>\n",
       "  </tbody>\n",
       "</table>\n",
       "<p>168114 rows × 2 columns</p>\n",
       "</div>"
      ],
      "text/plain": [
       "            Id  modularity_class\n",
       "0        98343                 2\n",
       "1       141493                 2\n",
       "2        58736                 2\n",
       "3       140703                 2\n",
       "4       151401                 2\n",
       "...        ...               ...\n",
       "168109  131422                 0\n",
       "168110  102494                 2\n",
       "168111  157597                 0\n",
       "168112  128281                 2\n",
       "168113  118034                 2\n",
       "\n",
       "[168114 rows x 2 columns]"
      ]
     },
     "execution_count": 12,
     "metadata": {},
     "output_type": "execute_result"
    }
   ],
   "source": [
    "cluster"
   ]
  },
  {
   "cell_type": "code",
   "execution_count": 17,
   "metadata": {},
   "outputs": [],
   "source": [
    "merged_nodes= pd.merge(features, cluster, left_on= 'numeric_id',right_on= 'Id')"
   ]
  },
  {
   "cell_type": "code",
   "execution_count": 58,
   "metadata": {},
   "outputs": [],
   "source": [
    "dead_accounts = features[features['dead_account'] == 1]\n",
    "active_accounts = features[features['dead_account'] == 0]\n"
   ]
  },
  {
   "cell_type": "code",
   "execution_count": 63,
   "metadata": {},
   "outputs": [],
   "source": [
    "num_dead_accounts = len(dead_accounts)\n",
    "active_accounts_sampled = active_accounts.sample(n=num_dead_accounts, random_state=42)\n",
    "user_ids_of_active_accounts_sampled = active_accounts_sampled['numeric_id']"
   ]
  },
  {
   "cell_type": "code",
   "execution_count": 66,
   "metadata": {},
   "outputs": [
    {
     "data": {
      "text/html": [
       "<div>\n",
       "<style scoped>\n",
       "    .dataframe tbody tr th:only-of-type {\n",
       "        vertical-align: middle;\n",
       "    }\n",
       "\n",
       "    .dataframe tbody tr th {\n",
       "        vertical-align: top;\n",
       "    }\n",
       "\n",
       "    .dataframe thead th {\n",
       "        text-align: right;\n",
       "    }\n",
       "</style>\n",
       "<table border=\"1\" class=\"dataframe\">\n",
       "  <thead>\n",
       "    <tr style=\"text-align: right;\">\n",
       "      <th></th>\n",
       "      <th>source</th>\n",
       "      <th>target</th>\n",
       "    </tr>\n",
       "  </thead>\n",
       "  <tbody>\n",
       "    <tr>\n",
       "      <th>65</th>\n",
       "      <td>141493</td>\n",
       "      <td>17293</td>\n",
       "    </tr>\n",
       "    <tr>\n",
       "      <th>82</th>\n",
       "      <td>141493</td>\n",
       "      <td>42097</td>\n",
       "    </tr>\n",
       "    <tr>\n",
       "      <th>85</th>\n",
       "      <td>141493</td>\n",
       "      <td>18259</td>\n",
       "    </tr>\n",
       "    <tr>\n",
       "      <th>136</th>\n",
       "      <td>141493</td>\n",
       "      <td>91804</td>\n",
       "    </tr>\n",
       "    <tr>\n",
       "      <th>226</th>\n",
       "      <td>141493</td>\n",
       "      <td>119611</td>\n",
       "    </tr>\n",
       "    <tr>\n",
       "      <th>...</th>\n",
       "      <td>...</td>\n",
       "      <td>...</td>\n",
       "    </tr>\n",
       "    <tr>\n",
       "      <th>6797324</th>\n",
       "      <td>73416</td>\n",
       "      <td>164575</td>\n",
       "    </tr>\n",
       "    <tr>\n",
       "      <th>6797338</th>\n",
       "      <td>75948</td>\n",
       "      <td>100794</td>\n",
       "    </tr>\n",
       "    <tr>\n",
       "      <th>6797426</th>\n",
       "      <td>6601</td>\n",
       "      <td>128748</td>\n",
       "    </tr>\n",
       "    <tr>\n",
       "      <th>6797457</th>\n",
       "      <td>123025</td>\n",
       "      <td>99385</td>\n",
       "    </tr>\n",
       "    <tr>\n",
       "      <th>6797502</th>\n",
       "      <td>4934</td>\n",
       "      <td>53040</td>\n",
       "    </tr>\n",
       "  </tbody>\n",
       "</table>\n",
       "<p>397843 rows × 2 columns</p>\n",
       "</div>"
      ],
      "text/plain": [
       "         source  target\n",
       "65       141493   17293\n",
       "82       141493   42097\n",
       "85       141493   18259\n",
       "136      141493   91804\n",
       "226      141493  119611\n",
       "...         ...     ...\n",
       "6797324   73416  164575\n",
       "6797338   75948  100794\n",
       "6797426    6601  128748\n",
       "6797457  123025   99385\n",
       "6797502    4934   53040\n",
       "\n",
       "[397843 rows x 2 columns]"
      ]
     },
     "execution_count": 66,
     "metadata": {},
     "output_type": "execute_result"
    }
   ],
   "source": [
    "\n",
    "sampled_edges_active = edges[\n",
    "    edges['numeric_id_1'].isin(user_ids_of_active_accounts_sampled) | \n",
    "    edges['numeric_id_2'].isin(user_ids_of_active_accounts_sampled)\n",
    "]\n",
    "sampled_edges_active.columns =['source','target']\n",
    "\n",
    "sampled_edges_active"
   ]
  },
  {
   "cell_type": "code",
   "execution_count": 72,
   "metadata": {},
   "outputs": [
    {
     "name": "stderr",
     "output_type": "stream",
     "text": [
      "C:\\Users\\fangz\\AppData\\Local\\Temp\\ipykernel_5160\\2835971756.py:4: SettingWithCopyWarning: \n",
      "A value is trying to be set on a copy of a slice from a DataFrame.\n",
      "Try using .loc[row_indexer,col_indexer] = value instead\n",
      "\n",
      "See the caveats in the documentation: https://pandas.pydata.org/pandas-docs/stable/user_guide/indexing.html#returning-a-view-versus-a-copy\n",
      "  node_info['is_active_sample'] = node_info['numeric_id'].isin(user_ids_of_active_accounts_sampled)\n"
     ]
    },
    {
     "data": {
      "text/plain": [
       "False    95114\n",
       "True      5159\n",
       "Name: is_active_sample, dtype: int64"
      ]
     },
     "execution_count": 72,
     "metadata": {},
     "output_type": "execute_result"
    }
   ],
   "source": [
    "\n",
    "unique_nodes = pd.unique(sampled_edges_active[['source', 'target']].values.ravel('K'))\n",
    "node_info = features[features['numeric_id'].isin(unique_nodes)]\n",
    "# Add a column to highlight nodes that are part of the active accounts sample\n",
    "node_info['is_active_sample'] = node_info['numeric_id'].isin(user_ids_of_active_accounts_sampled)\n",
    "active_accounts_sampled = node_info[['numeric_id', 'is_active_sample']].rename(columns={'numeric_id': 'Id'})"
   ]
  },
  {
   "cell_type": "code",
   "execution_count": 73,
   "metadata": {},
   "outputs": [],
   "source": [
    "sampled_edges_active.to_csv('sampled_edges_active.csv', index= False)\n",
    "active_accounts_sampled.to_csv('active_accounts_sampled.csv', index= False)"
   ]
  },
  {
   "cell_type": "code",
   "execution_count": 75,
   "metadata": {},
   "outputs": [
    {
     "data": {
      "text/html": [
       "<div>\n",
       "<style scoped>\n",
       "    .dataframe tbody tr th:only-of-type {\n",
       "        vertical-align: middle;\n",
       "    }\n",
       "\n",
       "    .dataframe tbody tr th {\n",
       "        vertical-align: top;\n",
       "    }\n",
       "\n",
       "    .dataframe thead th {\n",
       "        text-align: right;\n",
       "    }\n",
       "</style>\n",
       "<table border=\"1\" class=\"dataframe\">\n",
       "  <thead>\n",
       "    <tr style=\"text-align: right;\">\n",
       "      <th></th>\n",
       "      <th>source</th>\n",
       "      <th>target</th>\n",
       "    </tr>\n",
       "  </thead>\n",
       "  <tbody>\n",
       "    <tr>\n",
       "      <th>41</th>\n",
       "      <td>141493</td>\n",
       "      <td>54013</td>\n",
       "    </tr>\n",
       "    <tr>\n",
       "      <th>54</th>\n",
       "      <td>141493</td>\n",
       "      <td>141930</td>\n",
       "    </tr>\n",
       "    <tr>\n",
       "      <th>122</th>\n",
       "      <td>141493</td>\n",
       "      <td>152100</td>\n",
       "    </tr>\n",
       "    <tr>\n",
       "      <th>138</th>\n",
       "      <td>141493</td>\n",
       "      <td>102090</td>\n",
       "    </tr>\n",
       "    <tr>\n",
       "      <th>141</th>\n",
       "      <td>141493</td>\n",
       "      <td>167840</td>\n",
       "    </tr>\n",
       "    <tr>\n",
       "      <th>...</th>\n",
       "      <td>...</td>\n",
       "      <td>...</td>\n",
       "    </tr>\n",
       "    <tr>\n",
       "      <th>6797523</th>\n",
       "      <td>44931</td>\n",
       "      <td>98827</td>\n",
       "    </tr>\n",
       "    <tr>\n",
       "      <th>6797525</th>\n",
       "      <td>56717</td>\n",
       "      <td>48216</td>\n",
       "    </tr>\n",
       "    <tr>\n",
       "      <th>6797526</th>\n",
       "      <td>28160</td>\n",
       "      <td>84939</td>\n",
       "    </tr>\n",
       "    <tr>\n",
       "      <th>6797534</th>\n",
       "      <td>143311</td>\n",
       "      <td>57681</td>\n",
       "    </tr>\n",
       "    <tr>\n",
       "      <th>6797544</th>\n",
       "      <td>102494</td>\n",
       "      <td>63286</td>\n",
       "    </tr>\n",
       "  </tbody>\n",
       "</table>\n",
       "<p>89820 rows × 2 columns</p>\n",
       "</div>"
      ],
      "text/plain": [
       "         source  target\n",
       "41       141493   54013\n",
       "54       141493  141930\n",
       "122      141493  152100\n",
       "138      141493  102090\n",
       "141      141493  167840\n",
       "...         ...     ...\n",
       "6797523   44931   98827\n",
       "6797525   56717   48216\n",
       "6797526   28160   84939\n",
       "6797534  143311   57681\n",
       "6797544  102494   63286\n",
       "\n",
       "[89820 rows x 2 columns]"
      ]
     },
     "execution_count": 75,
     "metadata": {},
     "output_type": "execute_result"
    }
   ],
   "source": [
    "user_ids_of_dead_accounts = dead_accounts['numeric_id']\n",
    "\n",
    "filtered_edges = edges[\n",
    "    edges['numeric_id_1'].isin(user_ids_of_dead_accounts) |\n",
    "    edges['numeric_id_2'].isin(user_ids_of_dead_accounts)\n",
    "]\n",
    "filtered_edges.columns =['source','target']\n",
    "filtered_edges"
   ]
  },
  {
   "cell_type": "code",
   "execution_count": null,
   "metadata": {},
   "outputs": [],
   "source": [
    "filtered_edges.to_csv('filtered_edges.csv',index= True)"
   ]
  },
  {
   "cell_type": "code",
   "execution_count": 74,
   "metadata": {},
   "outputs": [
    {
     "data": {
      "image/png": "[encoded data removed]",
      "text/plain": [
       "<Figure size 1000x600 with 1 Axes>"
      ]
     },
     "metadata": {},
     "output_type": "display_data"
    }
   ],
   "source": [
    "import pandas as pd\n",
    "import matplotlib.pyplot as plt\n",
    "language_churn_rate = merged_nodes.groupby('language')['dead_account'].mean() * 100\n",
    "\n",
    "# Plotting\n",
    "plt.figure(figsize=(10, 6))\n",
    "language_churn_rate.plot(kind='bar', color='skyblue')\n",
    "plt.title('Churn Rate by Language')\n",
    "plt.xlabel('Language')\n",
    "plt.ylabel('Churn Rate (%)')\n",
    "plt.xticks(rotation=45)\n",
    "plt.grid(axis='y', linestyle='--', alpha=0.7)\n",
    "plt.tight_layout()\n",
    "plt.show()"
   ]
  },
  {
   "cell_type": "code",
   "execution_count": 39,
   "metadata": {},
   "outputs": [],
   "source": [
    "features_renamed = features.rename(columns={'numeric_id': 'Id', 'dead_account': 'label'})\n",
    "\n",
    "# Dropping all other columns except 'Id' and 'label'\n",
    "features_final = features_renamed[['Id', 'label']]\n",
    "features_final.to_csv('features_final.csv',index= False)"
   ]
  }
 ],
 "metadata": {
  "kernelspec": {
   "display_name": "Python 3",
   "language": "python",
   "name": "python3"
  },
  "language_info": {
   "codemirror_mode": {
    "name": "ipython",
    "version": 3
   },
   "file_extension": ".py",
   "mimetype": "text/x-python",
   "name": "python",
   "nbconvert_exporter": "python",
   "pygments_lexer": "ipython3",
   "version": "3.10.11"
  }
 },
 "nbformat": 4,
 "nbformat_minor": 2
}
